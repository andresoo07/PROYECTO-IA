{
  "nbformat": 4,
  "nbformat_minor": 0,
  "metadata": {
    "colab": {
      "provenance": []
    },
    "kernelspec": {
      "name": "python3",
      "display_name": "Python 3"
    },
    "language_info": {
      "name": "python"
    }
  },
  "cells": [
    {
      "cell_type": "code",
      "source": [
        "# Importación de librerías\n",
        "\n",
        "import pandas as pd\n",
        "import numpy as np\n",
        "from sklearn.model_selection import train_test_split\n",
        "from sklearn.ensemble import RandomForestClassifier\n",
        "from sklearn.metrics import accuracy_score\n",
        "\n",
        "# Carga de datos\n",
        "\n",
        "train = pd.read_csv(\"train.csv\")\n",
        "test = pd.read_csv(\"test.csv\")\n",
        "\n",
        "# Eliminamos columnas ID\n",
        "train_ids = train[\"ID\"]\n",
        "test_ids = test[\"ID\"]\n",
        "y = train[\"RENDIMIENTO_GLOBAL\"]\n",
        "\n",
        "# Eliminamos columnas objetivo e ID del dataset\n",
        "X_train_full = train.drop(columns=[\"ID\", \"RENDIMIENTO_GLOBAL\"])\n",
        "X_test_full = test.drop(columns=[\"ID\"])\n",
        "\n",
        "# Unificación para preprocesamiento\n",
        "combined = pd.concat([X_train_full, X_test_full], axis=0)\n",
        "\n",
        "# Imputamos valores faltantes con 'desconocido' en categóricas y media en numéricas\n",
        "for col in combined.columns:\n",
        "    if combined[col].dtype == \"object\":\n",
        "        combined[col] = combined[col].fillna(\"desconocido\")\n",
        "    else:\n",
        "        combined[col] = combined[col].fillna(combined[col].mean())\n",
        "\n",
        "# Aplicamos One-Hot Encoding\n",
        "combined_encoded = pd.get_dummies(combined)\n",
        "\n",
        "# Separación nuevamente\n",
        "X_train = combined_encoded.iloc[:len(X_train_full)]\n",
        "X_test = combined_encoded.iloc[len(X_train_full):]\n",
        "\n",
        "# División entrenamiento / validación\n",
        "X_tr, X_val, y_tr, y_val = train_test_split(X_train, y, test_size=0.2, random_state=42)\n",
        "\n",
        "# Entrenamiento Random Forest\n",
        "clf = RandomForestClassifier(n_estimators=150, random_state=42)\n",
        "clf.fit(X_tr, y_tr)\n",
        "\n",
        "# Evaluación\n",
        "\n",
        "y_val_pred = clf.predict(X_val)\n",
        "\n"
      ],
      "metadata": {
        "id": "_pd7F1KVrK4i"
      },
      "execution_count": null,
      "outputs": []
    }
  ]
}