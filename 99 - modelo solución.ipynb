{
  "nbformat": 4,
  "nbformat_minor": 0,
  "metadata": {
    "colab": {
      "provenance": []
    },
    "kernelspec": {
      "name": "python3",
      "display_name": "Python 3"
    },
    "language_info": {
      "name": "python"
    }
  },
  "cells": [
    {
      "cell_type": "code",
      "source": [
        "# Librerías\n",
        "\n",
        "import pandas as pd\n",
        "import numpy as np\n",
        "from sklearn.ensemble import RandomForestClassifier\n",
        "\n",
        "# Carga de datos\n",
        "\n",
        "train = pd.read_csv(\"train.csv\")\n",
        "test = pd.read_csv(\"test.csv\")\n",
        "\n",
        "y = train[\"RENDIMIENTO_GLOBAL\"]\n",
        "X_train = train.drop(columns=[\"ID\", \"RENDIMIENTO_GLOBAL\"])\n",
        "X_test = test.drop(columns=[\"ID\"])\n",
        "test_ids = test[\"ID\"]\n",
        "\n",
        "# Limpieza + One-Hot Encoding\n",
        "\n",
        "# Unimos ambos datasets para aplicar encoding igual\n",
        "combined = pd.concat([X_train, X_test], axis=0)\n",
        "\n",
        "# Imputamos datos faltantes\n",
        "for col in combined.columns:\n",
        "    if combined[col].dtype == \"object\":\n",
        "        combined[col] = combined[col].fillna(\"desconocido\")\n",
        "    else:\n",
        "        combined[col] = combined[col].fillna(combined[col].mean())\n",
        "\n",
        "# One-Hot Encoding\n",
        "combined_encoded = pd.get_dummies(combined)\n",
        "\n",
        "# Dividimos nuevamente\n",
        "X_train = combined_encoded.iloc[:len(train)]\n",
        "X_test = combined_encoded.iloc[len(train):]\n",
        "\n",
        "# Entrenamiento Random Forest\n",
        "\n",
        "model = RandomForestClassifier(\n",
        "    n_estimators=100,\n",
        "    max_depth=15,\n",
        "    n_jobs=-1,\n",
        "    random_state=42\n",
        ")\n",
        "model.fit(X_train, y)\n",
        "\n",
        "# Predicción sobre test.csv\n",
        "\n",
        "y_test_pred = model.predict(X_test)\n",
        "\n",
        "\n",
        "#Generación del archivo de envío\n",
        "\n",
        "submission = pd.DataFrame({\n",
        "    'ID': test_ids,\n",
        "    'RENDIMIENTO_GLOBAL': y_test_pred\n",
        "})\n",
        "\n",
        "submission.to_csv('submission.csv', index=False)\n",
        "\n"
      ],
      "metadata": {
        "id": "T9nIqEJTt365"
      },
      "execution_count": null,
      "outputs": []
    }
  ]
}