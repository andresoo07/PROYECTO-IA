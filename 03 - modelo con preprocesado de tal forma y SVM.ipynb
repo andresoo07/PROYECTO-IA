{
  "nbformat": 4,
  "nbformat_minor": 0,
  "metadata": {
    "colab": {
      "provenance": []
    },
    "kernelspec": {
      "name": "python3",
      "display_name": "Python 3"
    },
    "language_info": {
      "name": "python"
    }
  },
  "cells": [
    {
      "cell_type": "markdown",
      "source": [
        "Importamos las librerías necesarias"
      ],
      "metadata": {
        "id": "LbBpevL-l2Ql"
      }
    },
    {
      "cell_type": "code",
      "source": [
        "import pandas as pd\n",
        "from sklearn.model_selection import train_test_split\n",
        "from sklearn.preprocessing import LabelEncoder, StandardScaler\n",
        "from sklearn.svm import SVC\n",
        "from sklearn.metrics import accuracy_score\n"
      ],
      "metadata": {
        "id": "emXok_vUlKXf"
      },
      "execution_count": 1,
      "outputs": []
    },
    {
      "cell_type": "markdown",
      "source": [
        "Cargamos los datos"
      ],
      "metadata": {
        "id": "n2LQtGYGl69t"
      }
    },
    {
      "cell_type": "code",
      "source": [
        "train = pd.read_csv(\"train.csv\")\n",
        "test = pd.read_csv(\"test.csv\")"
      ],
      "metadata": {
        "id": "I4UvFAXll-_c"
      },
      "execution_count": 2,
      "outputs": []
    },
    {
      "cell_type": "markdown",
      "source": [
        "Copiamos los ID y etiquetas"
      ],
      "metadata": {
        "id": "MFoP38f9mDCd"
      }
    },
    {
      "cell_type": "code",
      "source": [
        "train_id = train[\"ID\"]\n",
        "y = train[\"RENDIMIENTO_GLOBAL\"]\n",
        "train.drop(columns=[\"ID\", \"RENDIMIENTO_GLOBAL\"], inplace=True)\n",
        "test_ids = test[\"ID\"]\n",
        "test.drop(columns=[\"ID\"], inplace=True)"
      ],
      "metadata": {
        "id": "xrLMMZkEmF3u"
      },
      "execution_count": 3,
      "outputs": []
    },
    {
      "cell_type": "markdown",
      "source": [
        "Label Encoding para todas las variables categóricas"
      ],
      "metadata": {
        "id": "Wb1Wivj3mIfB"
      }
    },
    {
      "cell_type": "code",
      "source": [
        "for col in train.columns:\n",
        "    if train[col].dtype == \"object\":\n",
        "        encoder = LabelEncoder()\n",
        "        combined_data = pd.concat([train[col], test[col]], axis=0).astype(str)\n",
        "        encoder.fit(combined_data)\n",
        "        train[col] = encoder.transform(train[col].astype(str))\n",
        "        test[col] = encoder.transform(test[col].astype(str))"
      ],
      "metadata": {
        "id": "-cgOi4gDmNQn"
      },
      "execution_count": 4,
      "outputs": []
    },
    {
      "cell_type": "markdown",
      "source": [
        "Normalización"
      ],
      "metadata": {
        "id": "AirEkyePmQI_"
      }
    },
    {
      "cell_type": "code",
      "source": [
        "scaler = StandardScaler()\n",
        "X = scaler.fit_transform(train)\n",
        "X_test = scaler.transform(test)"
      ],
      "metadata": {
        "id": "Ellr3z6gmRRV"
      },
      "execution_count": 5,
      "outputs": []
    },
    {
      "cell_type": "markdown",
      "source": [
        "División de los datos"
      ],
      "metadata": {
        "id": "tzAvpc30mVzY"
      }
    },
    {
      "cell_type": "code",
      "source": [
        "X_train, X_val, y_train, y_val = train_test_split(X, y, test_size=0.2, random_state=42)"
      ],
      "metadata": {
        "id": "VV-yyi3fmWny"
      },
      "execution_count": 6,
      "outputs": []
    },
    {
      "cell_type": "markdown",
      "source": [
        "Entrenamiento SVM"
      ],
      "metadata": {
        "id": "9SU4hucLmbdr"
      }
    },
    {
      "cell_type": "code",
      "source": [
        "model = SVC()\n",
        "model.fit(X_train, y_train)"
      ],
      "metadata": {
        "id": "k_65EE1Imfqe"
      },
      "execution_count": null,
      "outputs": []
    },
    {
      "cell_type": "markdown",
      "source": [
        "Evaluación"
      ],
      "metadata": {
        "id": "kASBS8pvmjE5"
      }
    },
    {
      "cell_type": "code",
      "source": [
        "y_pred = model.predict(X_val)\n",
        "print(\"Accuracy (SVM):\", accuracy_score(y_val, y_pred))"
      ],
      "metadata": {
        "id": "J9u-iQ1_mmir"
      },
      "execution_count": null,
      "outputs": []
    }
  ]
}